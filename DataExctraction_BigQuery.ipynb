{
  "nbformat": 4,
  "nbformat_minor": 0,
  "metadata": {
    "colab": {
      "name": "NUS AI Datathon - Conservative vs Liberal Oxygen Therapy",
      "version": "0.3.2",
      "views": {},
      "default_view": {},
      "provenance": []
    },
    "kernelspec": {
      "name": "python3",
      "display_name": "Python 3"
    },
    "accelerator": "GPU"
  },
  "cells": [
    {
      "metadata": {
        "id": "Bj8KUrKNAA54",
        "colab_type": "code",
        "colab": {
          "autoexec": {
            "startup": false,
            "wait_interval": 0
          },
          "base_uri": "https://localhost:8080/",
          "height": 17
        },
        "outputId": "1952f610-fe1e-40cd-84ac-43d5edd51282",
        "executionInfo": {
          "status": "ok",
          "timestamp": 1530934436324,
          "user_tz": -480,
          "elapsed": 10109,
          "user": {
            "displayName": "Michael Hoy",
            "photoUrl": "https://lh3.googleusercontent.com/a/default-user=s128",
            "userId": "108797557910757121053"
          }
        }
      },
      "cell_type": "code",
      "source": [
        "# Import libraries\n",
        "import numpy as np\n",
        "import os\n",
        "import pandas as pd\n",
        "import matplotlib.pyplot as plt\n",
        "import matplotlib.patches as patches\n",
        "import matplotlib.path as path\n",
        "import tensorflow as tf\n",
        "\n",
        "# Below imports are used to print out pretty pandas dataframes\n",
        "from IPython.display import display, HTML\n",
        "\n",
        "# Imports for accessing Datathon data using Google BigQuery.\n",
        "from google.colab import auth\n",
        "from google.cloud import bigquery"
      ],
      "execution_count": 1,
      "outputs": []
    },
    {
      "metadata": {
        "id": "CFsfRk9MAq38",
        "colab_type": "code",
        "colab": {
          "autoexec": {
            "startup": false,
            "wait_interval": 0
          },
          "base_uri": "https://localhost:8080/",
          "height": 0
        },
        "outputId": "20548638-0399-4ab7-9ba3-c13b3c28523d",
        "executionInfo": {
          "status": "ok",
          "timestamp": 1530934466302,
          "user_tz": -480,
          "elapsed": 672,
          "user": {
            "displayName": "Michael Hoy",
            "photoUrl": "https://lh3.googleusercontent.com/a/default-user=s128",
            "userId": "108797557910757121053"
          }
        }
      },
      "cell_type": "code",
      "source": [
        "auth.authenticate_user()"
      ],
      "execution_count": 3,
      "outputs": []
    },
    {
      "metadata": {
        "id": "N1S42mXPAwnI",
        "colab_type": "code",
        "colab": {
          "autoexec": {
            "startup": false,
            "wait_interval": 0
          },
          "base_uri": "https://localhost:8080/",
          "height": 17
        },
        "outputId": "762e5f4d-b002-412c-f49e-1164a9d390dc",
        "executionInfo": {
          "status": "ok",
          "timestamp": 1530934468574,
          "user_tz": -480,
          "elapsed": 664,
          "user": {
            "displayName": "Michael Hoy",
            "photoUrl": "https://lh3.googleusercontent.com/a/default-user=s128",
            "userId": "108797557910757121053"
          }
        }
      },
      "cell_type": "code",
      "source": [
        "project_id='nus-datathon-2018-team-01'\n",
        "os.environ[\"GOOGLE_CLOUD_PROJECT\"]=project_id"
      ],
      "execution_count": 4,
      "outputs": []
    },
    {
      "metadata": {
        "id": "_d8kG1NDBLZo",
        "colab_type": "code",
        "colab": {
          "autoexec": {
            "startup": false,
            "wait_interval": 0
          },
          "base_uri": "https://localhost:8080/",
          "height": 17
        },
        "outputId": "25898dbd-f6e8-494e-cd6d-a578094f3638",
        "executionInfo": {
          "status": "ok",
          "timestamp": 1530934473408,
          "user_tz": -480,
          "elapsed": 693,
          "user": {
            "displayName": "Michael Hoy",
            "photoUrl": "https://lh3.googleusercontent.com/a/default-user=s128",
            "userId": "108797557910757121053"
          }
        }
      },
      "cell_type": "code",
      "source": [
        "# Read data from BigQuery into pandas dataframes.\n",
        "def run_query(query):\n",
        "  return pd.io.gbq.read_gbq(query, project_id=project_id, verbose=False, configuration={'query':{'useLegacySql': False}})"
      ],
      "execution_count": 5,
      "outputs": []
    },
    {
      "metadata": {
        "id": "1x6vPckAw1tN",
        "colab_type": "text"
      },
      "cell_type": "markdown",
      "source": [
        "Sweet! We are interested in Sp02 (row 1) and 02 saturation pulseoxymetry (row 3). \n",
        "They both refer to the same concept, but they have different names because they come from different sources. "
      ]
    },
    {
      "metadata": {
        "id": "-UuofiFPyOzE",
        "colab_type": "text"
      },
      "cell_type": "markdown",
      "source": [
        "## COHORT SELECTION"
      ]
    },
    {
      "metadata": {
        "id": "wRt5mSmPyWgj",
        "colab_type": "text"
      },
      "cell_type": "markdown",
      "source": [
        "We want patients who  are:\n",
        "\n",
        "*   16 or over at the start of the stay.\n",
        "*   Min 72 hours in ICU\n",
        "*   Only first admission\n",
        "*   Recieved supplemental oxygen TODO\n",
        "\n",
        "### run the code below in BigQuery and save it as a view \n",
        "\n",
        "patient_cohort:\n",
        "\n",
        "\n",
        "\n"
      ]
    },
    {
      "metadata": {
        "id": "dq3DJ6LVvLLR",
        "colab_type": "code",
        "colab": {
          "autoexec": {
            "startup": false,
            "wait_interval": 0
          }
        }
      },
      "cell_type": "code",
      "source": [
        "run_query('''\n",
        "WITH ps AS (\n",
        "SELECT\n",
        "  icu.subject_id,\n",
        "  icu.hadm_id,\n",
        "  icu.icustay_id,\n",
        "  pat.dob,\n",
        "  DATE(icu.intime) AS icu_date,\n",
        "  DATETIME_DIFF(icu.outtime, icu.intime, HOUR) / 24 AS icu_length_of_stay,\n",
        "  DATE_DIFF(DATE(icu.intime), DATE(pat.dob), YEAR) AS age\n",
        "FROM `physionet-data.mimiciii_clinical.icustays` AS icu\n",
        "INNER JOIN `physionet-data.mimiciii_clinical.patients` AS pat\n",
        "  ON icu.subject_id = pat.subject_id),\n",
        "first_stay AS (\n",
        "SELECT\n",
        "MIN(DATE(icu.intime)) AS first_icu_date,\n",
        "icu.subject_id AS subject_id\n",
        "FROM `physionet-data.mimiciii_clinical.icustays` AS icu\n",
        "GROUP BY subject_id),\n",
        "ventilation AS (\n",
        "SELECT\n",
        "  MAX(chart.valuenum) AS max_fiO2,\n",
        "  chart.subject_id,\n",
        "  chart.icustay_id\n",
        "FROM `physionet-data.mimiciii_clinical.chartevents` AS chart\n",
        "WHERE chart.itemid in (3420, 190, 223835, 3422)\n",
        "GROUP BY chart.subject_id, chart.icustay_id)\n",
        "SELECT\n",
        "  ps.subject_id AS subject_id,\n",
        "  MAX(ps.icustay_id) AS icustay_id,\n",
        "  MAX(ps.age) as age,\n",
        "  MAX(ps.icu_length_of_stay) as icu_length_of_stay,\n",
        "  MAX(ventilation.max_fiO2) as max_fiO2\n",
        "FROM ps\n",
        "INNER JOIN first_stay\n",
        "  ON ps.subject_id = first_stay.subject_id\n",
        "INNER JOIN ventilation\n",
        "  ON ps.subject_id = ventilation.subject_id\n",
        "WHERE age >= 16\n",
        "AND icu_length_of_stay >= 3\n",
        "AND first_stay.first_icu_date = icu_date\n",
        "AND ventilation.max_fiO2 > 24\n",
        "GROUP BY ps.subject_id\n",
        "''')"
      ],
      "execution_count": 0,
      "outputs": []
    },
    {
      "metadata": {
        "id": "tLAA6yZVyzHP",
        "colab_type": "code",
        "colab": {
          "autoexec": {
            "startup": false,
            "wait_interval": 0
          },
          "base_uri": "https://localhost:8080/",
          "height": 285
        },
        "outputId": "5fab5617-7538-4f38-8eca-bbe7268f92fd",
        "executionInfo": {
          "status": "ok",
          "timestamp": 1530940937708,
          "user_tz": -480,
          "elapsed": 4133,
          "user": {
            "displayName": "Michael Hoy",
            "photoUrl": "https://lh3.googleusercontent.com/a/default-user=s128",
            "userId": "108797557910757121053"
          }
        }
      },
      "cell_type": "code",
      "source": [
        "run_query('''\n",
        "SELECT * FROM oxygenation.patient_cohort\n",
        "''')\n",
        "\n",
        "df.head()"
      ],
      "execution_count": 14,
      "outputs": [
        {
          "output_type": "stream",
          "text": [
            "    subject_id  icustay_id  age  icu_length_of_stay  max_fiO2\n",
            "0        44228      217992   58                   4      40.0\n",
            "1        42281      256746   68                   4     100.0\n",
            "2        42066      244243   51                   5      50.0\n",
            "3        42199      274509   73                   5     100.0\n",
            "4        43798      243229   62                   7     100.0\n",
            "5        40595      276601   76                   9     100.0\n",
            "6        41795      216185   49                  10     100.0\n",
            "7        41795      216185   49                  10      45.0\n",
            "8        41914      256338   55                  13      70.0\n",
            "9        42075      298685   80                  14     100.0\n",
            "10       40310      210989   41                  19     100.0\n",
            "11       40310      210989   41                  19     100.0\n",
            "12       42367      250305   87                  29     100.0\n",
            "13       44212      239396   45                  31     100.0\n"
          ],
          "name": "stdout"
        }
      ]
    },
    {
      "metadata": {
        "id": "7Gtqm-Iu3aGZ",
        "colab_type": "text"
      },
      "cell_type": "markdown",
      "source": [
        "## ICD CODES!\n",
        "\n",
        "\n",
        "\n"
      ]
    },
    {
      "metadata": {
        "id": "7xIBV499vVIO",
        "colab_type": "code",
        "colab": {
          "autoexec": {
            "startup": false,
            "wait_interval": 0
          }
        }
      },
      "cell_type": "code",
      "source": [
        "run_query('''\n",
        "WITH icd_presence AS (\n",
        "SELECT\n",
        "icd.subject_id,\n",
        "pat.icustay_id,\n",
        "SAFE_CAST(SUBSTR(icd.icd9_code, 0, 3) as numeric) AS icd_num\n",
        "FROM `physionet-data.mimiciii_clinical.diagnoses_icd` AS icd\n",
        "INNER JOIN `nus-datathon-2018-team-01.oxygenation.patient_cohort` AS pat\n",
        "  ON pat.subject_id = icd.subject_id)\n",
        "SELECT\n",
        "icd_presence.subject_id,\n",
        "icd_presence.icustay_id,\n",
        "COUNT(CASE WHEN icd_presence.icd_num BETWEEN 001 AND 139 THEN 1 END) > 0 AS has_infectous_disease,\n",
        "COUNT(CASE WHEN icd_presence.icd_num BETWEEN 140 AND 239 THEN 1 END) > 0 AS has_neoplasm_disease,\n",
        "COUNT(CASE WHEN icd_presence.icd_num BETWEEN 240 AND 279 THEN 1 END) > 0 AS has_endocrine_disease,\n",
        "COUNT(CASE WHEN icd_presence.icd_num BETWEEN 280 AND 289 THEN 1 END) > 0 AS has_blood_disease,\n",
        "COUNT(CASE WHEN icd_presence.icd_num BETWEEN 290 AND 319 THEN 1 END) > 0 AS has_mental_disease,\n",
        "COUNT(CASE WHEN icd_presence.icd_num BETWEEN 320 AND 389 THEN 1 END) > 0 AS has_nervous_disease,\n",
        "COUNT(CASE WHEN icd_presence.icd_num BETWEEN 390 AND 459 THEN 1 END) > 0 AS has_circulatory_disease,\n",
        "COUNT(CASE WHEN icd_presence.icd_num BETWEEN 460 AND 519 THEN 1 END) > 0 AS has_respiratory_disease,\n",
        "COUNT(CASE WHEN icd_presence.icd_num BETWEEN 520 AND 579 THEN 1 END) > 0 AS has_digestive_disease,\n",
        "COUNT(CASE WHEN icd_presence.icd_num BETWEEN 580 AND 629 THEN 1 END) > 0 AS has_urinary_disease,\n",
        "COUNT(CASE WHEN icd_presence.icd_num BETWEEN 630 AND 679 THEN 1 END) > 0 AS has_pregnancy_disease,\n",
        "COUNT(CASE WHEN icd_presence.icd_num BETWEEN 680 AND 709 THEN 1 END) > 0 AS has_skin_disease,\n",
        "COUNT(CASE WHEN icd_presence.icd_num BETWEEN 710 AND 739 THEN 1 END) > 0 AS has_muscle_disease,\n",
        "COUNT(CASE WHEN icd_presence.icd_num BETWEEN 740 AND 759 THEN 1 END) > 0 AS has_congenital_disease,\n",
        "COUNT(CASE WHEN icd_presence.icd_num BETWEEN 760 AND 779 THEN 1 END) > 0 AS has_perinatal_disease,\n",
        "COUNT(CASE WHEN icd_presence.icd_num BETWEEN 780 AND 799 THEN 1 END) > 0 AS has_other_disease,\n",
        "COUNT(CASE WHEN icd_presence.icd_num BETWEEN 800 AND 999 THEN 1 END) > 0 AS has_injury_disease,\n",
        "COUNT(CASE WHEN icd_presence.icd_num BETWEEN 410 AND 414 THEN 1 END) > 0 AS has_isachaemic_heart_disease,\n",
        "COUNT(CASE WHEN icd_presence.icd_num BETWEEN 427 AND 427 THEN 1 END) > 0 AS has_atrial_fibrillation_disease,\n",
        "COUNT(CASE WHEN icd_presence.icd_num BETWEEN 434 AND 434 THEN 1 END) > 0 AS has_stroke_disease\n",
        "FROM icd_presence\n",
        "GROUP BY icd_presence.subject_id, icd_presence.icustay_id\n",
        "```)\n"
      ],
      "execution_count": 0,
      "outputs": []
    },
    {
      "metadata": {
        "id": "y2Q0Xx9Wvhu6",
        "colab_type": "text"
      },
      "cell_type": "markdown",
      "source": [
        "## Fluid Balance\n"
      ]
    },
    {
      "metadata": {
        "id": "VzgOpo-xvpu3",
        "colab_type": "code",
        "colab": {
          "autoexec": {
            "startup": false,
            "wait_interval": 0
          }
        }
      },
      "cell_type": "code",
      "source": [
        "run_query('''-- fluid intake in table ‘inputevents_mv’\n",
        "\n",
        "WITH intake_im AS (\n",
        "\n",
        "  SELECT afc.*\n",
        "\n",
        "         , im.starttime\n",
        "\n",
        "         , im.endtime\n",
        "\n",
        "        -- convert the unit to ml\n",
        "\n",
        "         , CASE WHEN im.totalamountuom like 'uL' THEN im.totalamount/1000\n",
        "\n",
        "                WHEN im.totalamountuom like 'ounces' THEN im.totalamount*29.27\n",
        "\n",
        "                ELSE im.totalamount END AS amount\n",
        "\n",
        "    FROM `physionet-data.mimiciii_clinical.icustay_detail` AS afc\n",
        "\n",
        "         LEFT JOIN `physionet-data.mimiciii_clinical.inputevents_mv` AS im\n",
        "\n",
        "          ON im.icustay_id = afc.icustay_id\n",
        "\n",
        "          WHERE (im.totalamountuom like 'ml' or im.totalamountuom like 'uL' or im.totalamountuom like 'ounces')\n",
        "\n",
        "   AND im.starttime BETWEEN afc.intime AND DATETIME_ADD(afc.intime, INTERVAL 72 HOUR)\n",
        "\n",
        "     AND amount IS NOT NULL\n",
        "\n",
        ")\n",
        "\n",
        "\n",
        "\n",
        "\n",
        "\n",
        "--fluid intake in table ‘inputevents_cv’\n",
        "\n",
        "-- inputevents_cv only has charttime\n",
        "\n",
        ", intake_ic AS (\n",
        "\n",
        "  SELECT afc.*\n",
        "\n",
        "         , ic.charttime\n",
        "\n",
        "         -- convert the unit to ml\n",
        "\n",
        "         , CASE WHEN ic.amountuom like 'tsp' THEN amount/5\n",
        "\n",
        "                              ELSE ic.amount END AS amount\n",
        "\n",
        "    FROM `physionet-data.mimiciii_clinical.icustay_detail` afc\n",
        "\n",
        "         LEFT JOIN `physionet-data.mimiciii_clinical.inputevents_cv` ic\n",
        "\n",
        "           ON ic.icustay_id = afc.icustay_id\n",
        "\n",
        "          WHERE (ic.amountuom like 'cc' or ic.amountuom like 'ml' or ic.amountuom like 'tsp')\n",
        "\n",
        "   AND ic.charttime BETWEEN afc.intime AND DATETIME_ADD(afc.intime, INTERVAL 72 HOUR)\n",
        "\n",
        ")\n",
        "\n",
        "\n",
        "\n",
        "--fluid output in table ‘outputevents’\n",
        "\n",
        "  , output AS (\n",
        "\n",
        "  SELECT afc.icustay_id\n",
        "\n",
        "       --, value\n",
        "\n",
        "       --, oe.itemid\n",
        "\n",
        "       --, di.label\n",
        "\n",
        "       , sum(value) AS output_fluid\n",
        "\n",
        "  FROM `physionet-data.mimiciii_clinical.icustay_detail` afc\n",
        "\n",
        "       LEFT JOIN `physionet-data.mimiciii_clinical.outputevents` oe\n",
        "\n",
        "       ON afc.icustay_id = oe.icustay_id\n",
        "\n",
        "       LEFT JOIN `physionet-data.mimiciii_clinical.d_items` di\n",
        "\n",
        "       ON di.itemid = oe.itemid\n",
        "\n",
        " WHERE oe.charttime BETWEEN afc.intime AND DATETIME_ADD(afc.intime, INTERVAL 72 HOUR)\n",
        "\n",
        " GROUP BY afc.icustay_id\n",
        "\n",
        ")\n",
        "\n",
        "\n",
        "\n",
        "-- sum of fluid input in 72 hours\n",
        "\n",
        "  , input AS (\n",
        "\n",
        "  SELECT intake.icustay_id\n",
        "\n",
        "       , sum(intake.amount) AS intake_fluid\n",
        "\n",
        "  FROM (SELECT icustay_id\n",
        "\n",
        "               , amount\n",
        "\n",
        "          from intake_im\n",
        "\n",
        "        UNION DISTINCT\n",
        "\n",
        "        SELECT icustay_id\n",
        "\n",
        "               , amount\n",
        "\n",
        "          from intake_ic) intake\n",
        "\n",
        " GROUP BY intake.icustay_id\n",
        "\n",
        ")\n",
        "\n",
        "\n",
        "\n",
        "SELECT DISTINCT input.icustay_id\n",
        "\n",
        "       --, output.output_fluid\n",
        "\n",
        "       , input.intake_fluid - output.output_fluid AS fluid_balance\n",
        "\n",
        "  FROM input\n",
        "\n",
        "       LEFT JOIN output\n",
        "\n",
        "       ON output.icustay_id = input.icustay_id\n",
        "\n",
        "--Delete one wrong record\n",
        "\n",
        " WHERE output_fluid <> 150400'''"
      ],
      "execution_count": 0,
      "outputs": []
    },
    {
      "metadata": {
        "id": "a-ooMjIOvzWc",
        "colab_type": "text"
      },
      "cell_type": "markdown",
      "source": [
        "## Tidal High Count (Invasive Inventilation)"
      ]
    },
    {
      "metadata": {
        "id": "PIRIF2XBv71t",
        "colab_type": "code",
        "colab": {
          "autoexec": {
            "startup": false,
            "wait_interval": 0
          }
        }
      },
      "cell_type": "code",
      "source": [
        "run_query('''set SEARCH_PATH TO mimiciii;\n",
        "\n",
        "-- choose ventilation records recorded in first 3 days\n",
        "-- and if the endtime exceeds ICU intime + 24 hours, change the endtime to 'intime + 24 hours'\n",
        "WITH vent_cohort AS (\n",
        "  SELECT vd.icustay_id\n",
        "        , icud.intime\n",
        "        , vd.starttime\n",
        "        , CASE WHEN vd.endtime > icud.intime + INTERVAL '24' HOUR\n",
        "                 THEN (icud.intime + INTERVAL '24' HOUR)\n",
        "                 ELSE vd.endtime\n",
        "          END\n",
        "  FROM icustay_detail icud\n",
        "       LEFT JOIN ventdurations vd\n",
        "       ON vd.icustay_id = icud.icustay_id\n",
        "       AND vd.starttime BETWEEN icud.intime AND icud.intime + INTERVAL '1' day\n",
        ")\n",
        "\n",
        "  , tidal AS (\n",
        "SELECT ce.icustay_id\n",
        "       , (ce.value::NUMERIC)/(echo.weight::NUMERIC) AS tidal_volume_per_weight\n",
        "       --, ce.valueuom\n",
        "       --, echo.weight\n",
        "  FROM chartevents ce\n",
        "  LEFT JOIN echo_categorized echo\n",
        "       ON echo.hadm_id::text = ce.hadm_id::text\n",
        "  LEFT JOIN vent_cohort vc\n",
        "       ON ce.icustay_id = vc.icustay_id\n",
        " WHERE ce.itemid = ANY (ARRAY[681, 682, 224685]) -- these itemid are for tidal volume\n",
        "       AND echo.weight IS NOT NULL -- some guys didn't have these records, just remove them\n",
        "       AND echo.weight !~~ 'None' -- text in 'weight'\n",
        "       AND ce.charttime BETWEEN vc.starttime AND vc.endtime  -- only select tidal volume recorded during invasive ventilation\n",
        ")\n",
        ", tidal_total AS (\n",
        "  SELECT tidal.*\n",
        "         , CASE WHEN tidal.tidal_volume_per_weight >= 6.5 THEN 1 ELSE 0 END AS tidal_label\n",
        "         , tidal_total.total_count\n",
        "        FROM tidal\n",
        "             LEFT JOIN (\n",
        "                SELECT icustay_id\n",
        "                       , count(icustay_id) AS total_count\n",
        "                  FROM tidal\n",
        "                 GROUP BY icustay_id\n",
        "            ) tidal_total\n",
        "             ON tidal_total.icustay_id = tidal.icustay_id\n",
        ")\n",
        "\n",
        "  , tidal_risk AS (\n",
        "  SELECT tt.icustay_id\n",
        "       , tt.total_count\n",
        "       , sum(tt.tidal_label) AS tidal_high_count\n",
        "    FROM tidal_total tt\n",
        "   GROUP BY tt.icustay_id, tt.total_count\n",
        ")\n",
        "\n",
        "SELECT icustay_id\n",
        "      , tidal_high_count\n",
        "      , total_count\n",
        "       , tidal_high_count::NUMERIC /total_count AS tidal_high_count2\n",
        "  FROM tidal_risk\n",
        "  ORDER BY tidal_high_count DESC'''"
      ],
      "execution_count": 0,
      "outputs": []
    },
    {
      "metadata": {
        "id": "dbfaxOKDtefg",
        "colab_type": "text"
      },
      "cell_type": "markdown",
      "source": [
        "### Mechanical Ventilative Volume\n"
      ]
    },
    {
      "metadata": {
        "id": "V1wkoepxtkb4",
        "colab_type": "code",
        "colab": {
          "autoexec": {
            "startup": false,
            "wait_interval": 0
          }
        }
      },
      "cell_type": "code",
      "source": [
        "run_query('''-- choose ventilation records recorded in first 3 days\n",
        "-- and if the endtime exceeds ICU intime + 24 hours, change the endtime to 'intime + 24 hours'\n",
        "WITH vent_cohort AS (\n",
        " SELECT vd.icustay_id\n",
        "    , icud.intime\n",
        "    , vd.starttime\n",
        "    , CASE WHEN vd.endtime > DATETIME_ADD(icud.intime, INTERVAL 24 HOUR)\n",
        "         THEN DATETIME_ADD(icud.intime, INTERVAL 24 HOUR)\n",
        "         ELSE vd.endtime\n",
        "     END AS endtime\n",
        " FROM `physionet-data.mimiciii_clinical.icustay_detail` icud\n",
        "    LEFT JOIN `physionet-data.mimiciii_clinical.ventdurations` vd\n",
        "    ON vd.icustay_id = icud.icustay_id\n",
        " WHERE vd.starttime BETWEEN icud.intime AND DATETIME_ADD(icud.intime, INTERVAL 1 day)\n",
        ")\n",
        ", weight AS (\n",
        "SELECT icustay_id\n",
        "    , AVG(weight) AS weight\n",
        " FROM `physionet-data.mimiciii_clinical.weightdurations`\n",
        " GROUP BY icustay_id\n",
        ")\n",
        " , tidal AS (\n",
        "SELECT ce.icustay_id\n",
        "    , safe_CAST(ce.value as FLOAT64) /wt.weight AS tidal_volume_per_weight\n",
        "    --, ce.valueuom\n",
        "    --, echo.weight\n",
        " FROM `physionet-data.mimiciii_clinical.chartevents` ce\n",
        " LEFT JOIN weight wt\n",
        "    ON wt.icustay_id = ce.icustay_id\n",
        " LEFT JOIN vent_cohort vc\n",
        "    ON ce.icustay_id = vc.icustay_id\n",
        " WHERE ce.itemid IN (681, 682, 224685) -- these itemid are for tidal volume\n",
        "    AND wt.weight IS NOT NULL -- some guys didn't have these records, just remove them\n",
        "    AND ce.charttime BETWEEN vc.starttime AND vc.endtime -- only select tidal volume recorded during invasive ventilation\n",
        ")\n",
        ", tidal_total AS (\n",
        " SELECT tidal.*\n",
        "     , CASE WHEN tidal.tidal_volume_per_weight >= 6.5 THEN 1 ELSE 0 END AS tidal_label\n",
        "     , tidal_total.total_count\n",
        "    FROM tidal\n",
        "       LEFT JOIN (\n",
        "        SELECT icustay_id\n",
        "            , count(icustay_id) AS total_count\n",
        "         FROM tidal\n",
        "         GROUP BY icustay_id\n",
        "      ) tidal_total\n",
        "       ON tidal_total.icustay_id = tidal.icustay_id\n",
        ")\n",
        " , tidal_risk AS (\n",
        " SELECT tt.icustay_id\n",
        "    , tt.total_count\n",
        "    , sum(tt.tidal_label) AS tidal_high_count\n",
        "  FROM tidal_total tt\n",
        "  GROUP BY tt.icustay_id, tt.total_count\n",
        ")\n",
        "SELECT icustay_id\n",
        "   , tidal_high_count\n",
        "   , total_count\n",
        "    , tidal_high_count/total_count AS tidal_high_count2\n",
        " FROM tidal_risk\n",
        " ORDER BY tidal_high_count DESC'''"
      ],
      "execution_count": 0,
      "outputs": []
    },
    {
      "metadata": {
        "id": "kT2EvNKrG9Iz",
        "colab_type": "text"
      },
      "cell_type": "markdown",
      "source": [
        "# Final Queries"
      ]
    },
    {
      "metadata": {
        "id": "yTBh81h29O8q",
        "colab_type": "text"
      },
      "cell_type": "markdown",
      "source": [
        "## patients_Resutls\n",
        "We will run a few codes over a couple of steps for computational ease "
      ]
    },
    {
      "metadata": {
        "id": "KMdQCOtjgRKx",
        "colab_type": "text"
      },
      "cell_type": "markdown",
      "source": [
        "### Step 1 \n"
      ]
    },
    {
      "metadata": {
        "id": "V8iaXqW56L1P",
        "colab_type": "code",
        "colab": {
          "autoexec": {
            "startup": false,
            "wait_interval": 0
          },
          "base_uri": "https://localhost:8080/",
          "height": 0
        },
        "outputId": "f4bce052-62a3-46ca-984c-3a4632427227",
        "executionInfo": {
          "status": "ok",
          "timestamp": 1530948736253,
          "user_tz": -480,
          "elapsed": 24007,
          "user": {
            "displayName": "Michael Hoy",
            "photoUrl": "https://lh3.googleusercontent.com/a/default-user=s128",
            "userId": "108797557910757121053"
          }
        }
      },
      "cell_type": "code",
      "source": [
        "run_query(''' \n",
        "SELECT DISTINCT \n",
        "\n",
        "                HADM.HADM_id,                 \n",
        "                PC.subject_id as patient_ID,\n",
        "                P.gender as gender,\n",
        "                PC.age as age,  \n",
        "              PC.icu_length_of_stay,\n",
        "  CASE \n",
        "  WHEN HADM.deathtime BETWEEN HADM.admittime and HADM.dischtime\n",
        "            THEN 1\n",
        "  ELSE 0\n",
        "  END AS mortality_in_Hospt, \n",
        "    CASE \n",
        "  WHEN HADM.deathtime BETWEEN icu.intime and icu.outtime\n",
        "            THEN 1\n",
        "  ELSE 0\n",
        "  END AS mortality_in_ICU,\n",
        "  HADM.deathtime as deathtime, \n",
        "  ICU.intime as ICU_intime, \n",
        "                ICD.*\n",
        "  \n",
        "FROM `nus-datathon-2018-team-01.oxygenation.patient_cohort` PC\n",
        "INNER JOIN `physionet-data.mimiciii_clinical.patients` P \n",
        "  ON P.subject_id = PC.subject_id\n",
        "INNER JOIN `physionet-data.mimiciii_clinical.admissions` HADM\n",
        "  ON PC.subject_id = HADM.subject_id\n",
        "INNER JOIN `physionet-data.mimiciii_clinical.icustays` ICU\n",
        "  ON PC.subject_id = ICU.subject_id\n",
        "  AND HADM.HADM_ID = ICU.HADM_ID\n",
        "INNER JOIN `physionet-data.mimiciii_clinical.chartevents` C\n",
        "  ON C.subject_id = PC.subject_id \n",
        "    AND C.HADM_id = HADM.HADM_id \n",
        "    AND C.icustay_id = ICU.icustay_id \n",
        "    AND PC.icustay_id = ICU.icustay_id\n",
        "INNER JOIN `nus-datathon-2018-team-01.oxygenation.icd_codes` ICD \n",
        "  ON ICD.subject_id = PC.subject_id \n",
        "  AND ICU.icustay_id = ICD.icustay_id\n",
        "WHERE C.ITEMID in (220277, 646) \n",
        "AND C.valuenum IS NOT NULL; \n",
        "\n",
        "''')\n",
        "\n"
      ],
      "execution_count": 16,
      "outputs": []
    },
    {
      "metadata": {
        "id": "mDQc_aRXqMEi",
        "colab_type": "text"
      },
      "cell_type": "markdown",
      "source": [
        "### step 2 "
      ]
    },
    {
      "metadata": {
        "id": "ikO3iH8uqNo9",
        "colab_type": "code",
        "colab": {
          "autoexec": {
            "startup": false,
            "wait_interval": 0
          }
        }
      },
      "cell_type": "code",
      "source": [
        " run_query('''SELECT DISTINCT PRI1.*, \n",
        "                  apsiii.apsiii,\n",
        "                  elix.congestive_heart_failure, \n",
        "                  elix.hypertension, \n",
        "                  elix.chronic_pulmonary, \n",
        "                  elix.diabetes_uncomplicated, \n",
        "                  elix.diabetes_complicated, \n",
        "                  elix.renal_failure, \n",
        "                  elix.liver_disease, \n",
        "                  elix.lymphoma, \n",
        "                  elix.solid_tumor, \n",
        "                  elix.metastatic_cancer,\n",
        "                  angus.angus\n",
        "FROM `nus-datathon-2018-team-01.oxygenation1.patients_Results_Intermediate_1` PRI1\n",
        "INNER JOIN `physionet-data.mimiciii_clinical.elixhauser_quan` AS elix\n",
        "  ON elix.HADM_ID = PRI1.HADM_ID\n",
        "INNER JOIN `physionet-data.mimiciii_clinical.angus_sepsis` AS angus\n",
        "  ON angus.hadm_id = PRI1.hadm_id\n",
        "INNER JOIN `physionet-data.mimiciii_clinical.apsiii` AS apsiii\n",
        "  ON apsiii.hadm_id = PRI1.hadm_id\n",
        "  AND apsiii.subject_id = PRI1.patient_id\n",
        "  AND apsiii.icustay_id = PRI1.icustay_id''')"
      ],
      "execution_count": 0,
      "outputs": []
    },
    {
      "metadata": {
        "id": "AyCWEhNurKE3",
        "colab_type": "text"
      },
      "cell_type": "markdown",
      "source": [
        "### step 3"
      ]
    },
    {
      "metadata": {
        "id": "V2iK8Sm_rL5w",
        "colab_type": "code",
        "colab": {
          "autoexec": {
            "startup": false,
            "wait_interval": 0
          }
        }
      },
      "cell_type": "code",
      "source": [
        "run_query('''SELECT\n",
        "      PIR2.*,  \n",
        "      CASE \n",
        "      (SELECT count(mechvent)\n",
        "       FROM `physionet-data.mimiciii_clinical.ventsettings` VS\n",
        "       WHERE mechvent = 1 \n",
        "       AND VS.icustay_id = PIR2.icustay_id)  \n",
        "       WHEN 0 THEN 0 \n",
        "       ELSE 1 \n",
        "       END AS invasive\n",
        "FROM `nus-datathon-2018-team-01.oxygenation1.patients_Results_Intermediate_2` PIR2 ''')"
      ],
      "execution_count": 0,
      "outputs": []
    },
    {
      "metadata": {
        "id": "7u5O96XZuG86",
        "colab_type": "text"
      },
      "cell_type": "markdown",
      "source": [
        "### stetp 4 "
      ]
    },
    {
      "metadata": {
        "id": "WVL_bAhyuRpO",
        "colab_type": "code",
        "colab": {
          "autoexec": {
            "startup": false,
            "wait_interval": 0
          },
          "base_uri": "https://localhost:8080/",
          "height": 129
        },
        "outputId": "9acfa114-7a07-4fc4-b76c-a3a56bbf26a6",
        "executionInfo": {
          "status": "error",
          "timestamp": 1530969350171,
          "user_tz": -480,
          "elapsed": 952,
          "user": {
            "displayName": "Haroun Chahed",
            "photoUrl": "//lh6.googleusercontent.com/-7NHppgb6ncQ/AAAAAAAAAAI/AAAAAAAABJ0/Al4FoSkiu3Y/s50-c-k-no/photo.jpg",
            "userId": "105887261897119226160"
          }
        }
      },
      "cell_type": "code",
      "source": [
        "run_query('''SELECT PIR3.*, \n",
        "       FB.fluid_balance \n",
        "FROM `nus-datathon-2018-team-01.oxygenation1.patients_Results_Intermediate_3` PIR3 \n",
        "LEFT OUTER JOIN `nus-datathon-2018-team-01.oxygenation1.fluid_balance` FB \n",
        "  ON PIR3.icustay_id = FB.icustay_id;)"
      ],
      "execution_count": 1,
      "outputs": [
        {
          "output_type": "error",
          "ename": "SyntaxError",
          "evalue": "ignored",
          "traceback": [
            "\u001b[0;36m  File \u001b[0;32m\"<ipython-input-1-8ab0e6c8ebc3>\"\u001b[0;36m, line \u001b[0;32m1\u001b[0m\n\u001b[0;31m    SELECT PIR3.*,\u001b[0m\n\u001b[0m              ^\u001b[0m\n\u001b[0;31mSyntaxError\u001b[0m\u001b[0;31m:\u001b[0m invalid syntax\n"
          ]
        }
      ]
    },
    {
      "metadata": {
        "id": "6gHWzzcaloIF",
        "colab_type": "text"
      },
      "cell_type": "markdown",
      "source": [
        "###step 4 "
      ]
    },
    {
      "metadata": {
        "id": "uvXVEbu0ltUc",
        "colab_type": "code",
        "colab": {
          "autoexec": {
            "startup": false,
            "wait_interval": 0
          }
        }
      },
      "cell_type": "code",
      "source": [
        "run_query('''SELECT PIR4.*, \n",
        "       SOFA.sofa\n",
        "FROM `nus-datathon-2018-team-01.oxygenation1.patients_Results_Intermediate_4` PIR4\n",
        "LEFT OUTER JOIN `physionet-data.mimiciii_clinical.sofa` SOFA \n",
        "ON PIR4.patient_id = SOFA.subject_id \n",
        "AND PIR4.icustay_id = SOFA.icustay_id) ; "
      ],
      "execution_count": 0,
      "outputs": []
    },
    {
      "metadata": {
        "id": "d25U5rl7nuZJ",
        "colab_type": "text"
      },
      "cell_type": "markdown",
      "source": [
        "### step 5"
      ]
    },
    {
      "metadata": {
        "id": "91CYzIZVvZxw",
        "colab_type": "code",
        "colab": {
          "autoexec": {
            "startup": false,
            "wait_interval": 0
          }
        }
      },
      "cell_type": "code",
      "source": [
        "run_query('''SELECT PIR5.*, \n",
        "       MVV.tidal_high_count2 as tidal_count_percentage\n",
        "FROM `nus-datathon-2018-team-01.oxygenation1.patients_Results_Intermediate_5` PIR5\n",
        "LEFT OUTER JOIN `nus-datathon-2018-team-01.oxygenation1.mechanical_ventilative_volume` MVV \n",
        "ON PIR5.icustay_id = MVV.icustay_id);"
      ],
      "execution_count": 0,
      "outputs": []
    },
    {
      "metadata": {
        "id": "d1hTeK8kJolR",
        "colab_type": "text"
      },
      "cell_type": "markdown",
      "source": [
        "### step 6"
      ]
    },
    {
      "metadata": {
        "id": "bCTid15zJqES",
        "colab_type": "code",
        "colab": {
          "autoexec": {
            "startup": false,
            "wait_interval": 0
          }
        }
      },
      "cell_type": "code",
      "source": [
        "run_query('''SELECT DISTINCT OR6.patient_id\n",
        "      , max(icus.first_careunit) as first_care_unit\n",
        " from `nus-datathon-2018-team-01.oxygenation1.patients_Results_Intermediate_6` as or6\n",
        "      left outer join `physionet-data.mimiciii_clinical.icustays`  as icus\n",
        "      on icus.icustay_id = or6.icustay_id\n",
        "where icus.first_careunit is not null\n",
        "group by OR6.patient_id)"
      ],
      "execution_count": 0,
      "outputs": []
    },
    {
      "metadata": {
        "id": "U7BAYQy79ZY4",
        "colab_type": "text"
      },
      "cell_type": "markdown",
      "source": [
        "## measurements_Results"
      ]
    },
    {
      "metadata": {
        "id": "o-c5SzsoZCxj",
        "colab_type": "code",
        "colab": {
          "autoexec": {
            "startup": false,
            "wait_interval": 0
          }
        }
      },
      "cell_type": "code",
      "source": [
        "run_query(''' \n",
        "SELECT DISTINCT PC.subject_id as patient_ID,\n",
        "              C.valuenum as spO2_Value, \n",
        "              C.valueuom as sp02_Unit,\n",
        "              C.charttime as measurement_time\n",
        "              \n",
        "FROM `nus-datathon-2018-team-01.oxygenation.patient_cohort` PC\n",
        "INNER JOIN `physionet-data.mimiciii_clinical.patients` P \n",
        "  ON P.subject_id = PC.subject_id\n",
        "INNER JOIN `physionet-data.mimiciii_clinical.admissions` HADM\n",
        "  ON PC.subject_id = HADM.subject_id\n",
        "INNER JOIN `physionet-data.mimiciii_clinical.icustays` ICU\n",
        "  ON PC.subject_id = ICU.subject_id\n",
        "  AND HADM.HADM_ID = ICU.HADM_ID\n",
        "INNER JOIN `physionet-data.mimiciii_clinical.chartevents` C\n",
        "  ON C.subject_id = PC.subject_id \n",
        "    AND C.HADM_id = HADM.HADM_id \n",
        "    AND C.icustay_id = ICU.icustay_id \n",
        "    AND PC.icustay_id = ICU.icustay_id\n",
        "INNER JOIN `nus-datathon-2018-team-01.oxygenation.icd_codes` ICD \n",
        "  ON ICD.subject_id = PC.subject_id \n",
        "  AND ICU.icustay_id = ICD.icustay_id\n",
        "WHERE C.ITEMID in (220277, 646) \n",
        "AND C.valuenum IS NOT NULL; \n",
        "''')\n"
      ],
      "execution_count": 0,
      "outputs": []
    }
  ]
}